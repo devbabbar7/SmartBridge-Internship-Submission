{
  "cells": [
    {
      "cell_type": "code",
      "source": [
        "#Dev Babbar 20BAI10119\n",
        "from google.colab import files\n",
        "files.upload()"
      ],
      "metadata": {
        "id": "Dr9r-FDl3RIQ"
      },
      "execution_count": null,
      "outputs": []
    },
    {
      "cell_type": "code",
      "source": [
        "!rm -r ~/.kaggle\n",
        "!mkdir ~/.kaggle\n",
        "!mv ./kaggle.json ~/.kaggle/\n",
        "!chmod 600 ~/.kaggle/kaggle.json"
      ],
      "metadata": {
        "id": "fvfMDQ9llUmv",
        "colab": {
          "base_uri": "https://localhost:8080/"
        },
        "outputId": "c993ce21-cee5-4380-bc40-e1e6b7ee5d4e"
      },
      "execution_count": 2,
      "outputs": [
        {
          "output_type": "stream",
          "name": "stdout",
          "text": [
            "rm: cannot remove '/root/.kaggle': No such file or directory\n"
          ]
        }
      ]
    },
    {
      "cell_type": "code",
      "source": [
        "!kaggle datasets download -d akash2907/bird-species-classification"
      ],
      "metadata": {
        "colab": {
          "base_uri": "https://localhost:8080/"
        },
        "id": "Bid9PbuFmHi1",
        "outputId": "86d56386-3fbe-4c2d-f188-8e3480fac060"
      },
      "execution_count": 3,
      "outputs": [
        {
          "output_type": "stream",
          "name": "stdout",
          "text": [
            "Downloading bird-species-classification.zip to /content\n",
            "100% 1.37G/1.37G [01:09<00:00, 19.4MB/s]\n",
            "100% 1.37G/1.37G [01:09<00:00, 21.3MB/s]\n"
          ]
        }
      ]
    },
    {
      "cell_type": "code",
      "source": [
        "!mkdir Dataset\n",
        "!cp /content/bird-species-classification.zip\n",
        "!unzip -q /content/bird-species-classification.zip -d /content/Dataset\n",
        "!rm /content/bird-species-classification.zip"
      ],
      "metadata": {
        "colab": {
          "base_uri": "https://localhost:8080/"
        },
        "id": "3JYZT1wmmMyX",
        "outputId": "421e3ffc-db4d-4fa5-b707-a6d47b3d1e5d"
      },
      "execution_count": 4,
      "outputs": [
        {
          "output_type": "stream",
          "name": "stdout",
          "text": [
            "cp: missing destination file operand after '/content/bird-species-classification.zip'\n",
            "Try 'cp --help' for more information.\n"
          ]
        }
      ]
    },
    {
      "cell_type": "code",
      "source": [
        "#Importing Libraries\n",
        "import tensorflow as tf\n",
        "from tensorflow import keras\n",
        "from tensorflow.keras.preprocessing.image import ImageDataGenerator\n",
        "from tensorflow.keras.applications.vgg16 import VGG16\n",
        "from tensorflow.keras.models import Model\n",
        "from tensorflow.keras.layers import Dense, Flatten"
      ],
      "metadata": {
        "id": "NBXxBdqXmmJF"
      },
      "execution_count": 5,
      "outputs": []
    },
    {
      "cell_type": "code",
      "source": [
        "#Directories\n",
        "train_data_dir = 'Dataset/train_data/train_data'\n",
        "test_data_dir = 'Dataset/test_data/test_data'"
      ],
      "metadata": {
        "id": "X6lBjU_6pacC"
      },
      "execution_count": 6,
      "outputs": []
    },
    {
      "cell_type": "code",
      "source": [
        "#Data Augmentation and rescaling\n",
        "img_height, img_width = 224, 224\n",
        "batch_size = 32\n",
        "train_data_generator = ImageDataGenerator(rescale=1./255,  # normalize pixel values between 0 and 1\n",
        "                                          rotation_range=20,  # random rotations\n",
        "                                          width_shift_range=0.2,  # random horizontal shifts\n",
        "                                          height_shift_range=0.2,  # random vertical shifts\n",
        "                                          shear_range=0.2,  # random shearing\n",
        "                                          zoom_range=0.2,  # random zoom\n",
        "                                          horizontal_flip=True)  # random horizontal flips\n",
        "\n",
        "test_data_generator = ImageDataGenerator(rescale=1./255)  # only rescale test data\n",
        "\n",
        "train_generator = train_data_generator.flow_from_directory(train_data_dir,\n",
        "                                                          target_size=(img_height, img_width),\n",
        "                                                          batch_size=batch_size,\n",
        "                                                          class_mode='categorical')\n",
        "\n",
        "test_generator = test_data_generator.flow_from_directory(test_data_dir,\n",
        "                                                        target_size=(img_height, img_width),\n",
        "                                                        batch_size=batch_size,\n",
        "                                                        class_mode='categorical')"
      ],
      "metadata": {
        "id": "HcbBGuEvph6d",
        "colab": {
          "base_uri": "https://localhost:8080/"
        },
        "outputId": "0dae32f6-34a8-4e85-8479-f541ab3169d8"
      },
      "execution_count": 7,
      "outputs": [
        {
          "output_type": "stream",
          "name": "stdout",
          "text": [
            "Found 150 images belonging to 16 classes.\n",
            "Found 157 images belonging to 16 classes.\n"
          ]
        }
      ]
    },
    {
      "cell_type": "code",
      "source": [
        "#Transfer Learning using VGG16\n",
        "model2 = VGG16(weights='imagenet', include_top=False, input_shape=(img_height, img_width, 3))"
      ],
      "metadata": {
        "id": "71cHaAMOp2wi",
        "colab": {
          "base_uri": "https://localhost:8080/"
        },
        "outputId": "7e11df41-9ac3-41f1-8566-474108ab866c"
      },
      "execution_count": 8,
      "outputs": [
        {
          "output_type": "stream",
          "name": "stdout",
          "text": [
            "Downloading data from https://storage.googleapis.com/tensorflow/keras-applications/vgg16/vgg16_weights_tf_dim_ordering_tf_kernels_notop.h5\n",
            "58889256/58889256 [==============================] - 4s 0us/step\n"
          ]
        }
      ]
    },
    {
      "cell_type": "code",
      "source": [
        "#Setting VGG16 layers to non-trainable\n",
        "for layer in model2.layers:\n",
        "    layer.trainable = False"
      ],
      "metadata": {
        "id": "KID_spmrh8Za"
      },
      "execution_count": 9,
      "outputs": []
    },
    {
      "cell_type": "code",
      "source": [
        "#Adding VGG16 and our new layers\n",
        "model = tf.keras.Sequential()\n",
        "model.add(model2)\n",
        "model.add(Flatten())\n",
        "model.add(Dense(4096, activation='relu'))\n",
        "model.add(tf.keras.layers.Dropout(0.2))\n",
        "model.add(Dense(train_generator.num_classes, activation='softmax'))"
      ],
      "metadata": {
        "id": "Q81exGkOiqiT"
      },
      "execution_count": 10,
      "outputs": []
    },
    {
      "cell_type": "code",
      "source": [
        "model.compile(optimizer='adam',\n",
        "              loss='categorical_crossentropy',\n",
        "              metrics=['accuracy'])"
      ],
      "metadata": {
        "id": "ByQHBtDkp-bT"
      },
      "execution_count": 11,
      "outputs": []
    },
    {
      "cell_type": "code",
      "source": [
        "epochs = 10\n",
        "model.fit(train_generator,\n",
        "          epochs=epochs,\n",
        "          validation_data=test_generator)"
      ],
      "metadata": {
        "id": "qEJ6eqMQj328",
        "colab": {
          "base_uri": "https://localhost:8080/"
        },
        "outputId": "f8343625-875b-46b2-b9c2-c6158f86ac3d"
      },
      "execution_count": 14,
      "outputs": [
        {
          "output_type": "stream",
          "name": "stdout",
          "text": [
            "Epoch 1/10\n",
            "5/5 [==============================] - 88s 21s/step - loss: 0.8599 - accuracy: 0.7067 - val_loss: 3.1097 - val_accuracy: 0.3503\n",
            "Epoch 2/10\n",
            "5/5 [==============================] - 88s 20s/step - loss: 0.7459 - accuracy: 0.7600 - val_loss: 2.8863 - val_accuracy: 0.3758\n",
            "Epoch 3/10\n",
            "5/5 [==============================] - 87s 19s/step - loss: 0.4748 - accuracy: 0.8467 - val_loss: 3.1950 - val_accuracy: 0.3248\n",
            "Epoch 4/10\n",
            "5/5 [==============================] - 88s 20s/step - loss: 0.4940 - accuracy: 0.8067 - val_loss: 3.2429 - val_accuracy: 0.3631\n",
            "Epoch 5/10\n",
            "5/5 [==============================] - 87s 21s/step - loss: 0.3937 - accuracy: 0.8800 - val_loss: 3.1927 - val_accuracy: 0.3758\n",
            "Epoch 6/10\n",
            "5/5 [==============================] - 90s 20s/step - loss: 0.3903 - accuracy: 0.8800 - val_loss: 3.3480 - val_accuracy: 0.4140\n",
            "Epoch 7/10\n",
            "5/5 [==============================] - 96s 22s/step - loss: 0.3906 - accuracy: 0.8600 - val_loss: 3.3376 - val_accuracy: 0.3503\n",
            "Epoch 8/10\n",
            "5/5 [==============================] - 97s 23s/step - loss: 0.3712 - accuracy: 0.8733 - val_loss: 3.2452 - val_accuracy: 0.3567\n",
            "Epoch 9/10\n",
            "5/5 [==============================] - 90s 21s/step - loss: 0.3170 - accuracy: 0.9067 - val_loss: 3.4718 - val_accuracy: 0.3885\n",
            "Epoch 10/10\n",
            "5/5 [==============================] - 120s 28s/step - loss: 0.3004 - accuracy: 0.8933 - val_loss: 3.2689 - val_accuracy: 0.3822\n"
          ]
        },
        {
          "output_type": "execute_result",
          "data": {
            "text/plain": [
              "<keras.callbacks.History at 0x7f7df4296b00>"
            ]
          },
          "metadata": {},
          "execution_count": 14
        }
      ]
    },
    {
      "cell_type": "code",
      "source": [
        "model.evaluate(test_generator)"
      ],
      "metadata": {
        "colab": {
          "base_uri": "https://localhost:8080/"
        },
        "id": "bfjSn_5ozxGJ",
        "outputId": "ba4d3676-3650-48bb-ab5f-66f7f6e7ff36"
      },
      "execution_count": 15,
      "outputs": [
        {
          "output_type": "stream",
          "name": "stdout",
          "text": [
            "5/5 [==============================] - 49s 10s/step - loss: 3.2689 - accuracy: 0.3822\n"
          ]
        },
        {
          "output_type": "execute_result",
          "data": {
            "text/plain": [
              "[3.268937587738037, 0.3821656107902527]"
            ]
          },
          "metadata": {},
          "execution_count": 15
        }
      ]
    }
  ],
  "metadata": {
    "colab": {
      "provenance": [],
      "gpuType": "T4"
    },
    "kernelspec": {
      "display_name": "Python 3",
      "name": "python3"
    },
    "language_info": {
      "codemirror_mode": {
        "name": "ipython",
        "version": 3
      },
      "file_extension": ".py",
      "mimetype": "text/x-python",
      "name": "python",
      "nbconvert_exporter": "python",
      "pygments_lexer": "ipython3",
      "version": "3.7.4"
    },
    "accelerator": "GPU"
  },
  "nbformat": 4,
  "nbformat_minor": 0
}