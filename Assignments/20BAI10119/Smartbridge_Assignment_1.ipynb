{
  "nbformat": 4,
  "nbformat_minor": 0,
  "metadata": {
    "colab": {
      "provenance": []
    },
    "kernelspec": {
      "name": "python3",
      "display_name": "Python 3"
    },
    "language_info": {
      "name": "python"
    }
  },
  "cells": [
    {
      "cell_type": "code",
      "execution_count": 1,
      "metadata": {
        "id": "vvREYJUhBABt"
      },
      "outputs": [],
      "source": [
        "#Dev Babbar 20BAI10119\n",
        "import pandas as pd\n",
        "import numpy as np"
      ]
    },
    {
      "cell_type": "code",
      "source": [
        "# Task 1: Create a pandas dataframe with random values\n",
        "np.random.seed(42)  # Setting a seed for reproducibility\n",
        "data = np.random.randn(4, 4)  # Generate random values\n",
        "df = pd.DataFrame(data)\n",
        "print(\"Task 1 - DataFrame 'df':\")\n",
        "print(df)"
      ],
      "metadata": {
        "colab": {
          "base_uri": "https://localhost:8080/"
        },
        "id": "FcT6hLFgBcHr",
        "outputId": "a22bf54e-e9c1-440a-abcf-80e482ae7068"
      },
      "execution_count": 2,
      "outputs": [
        {
          "output_type": "stream",
          "name": "stdout",
          "text": [
            "Task 1 - DataFrame 'df':\n",
            "          0         1         2         3\n",
            "0  0.496714 -0.138264  0.647689  1.523030\n",
            "1 -0.234153 -0.234137  1.579213  0.767435\n",
            "2 -0.469474  0.542560 -0.463418 -0.465730\n",
            "3  0.241962 -1.913280 -1.724918 -0.562288\n"
          ]
        }
      ]
    },
    {
      "cell_type": "code",
      "source": [
        "# Task 2: Rename the column names\n",
        "df.columns = ['Random value 1', 'Random value 2', 'Random value 3', 'Random value 4']\n",
        "print(\"Task 2 - Renamed column names:\")\n",
        "print(df.columns)"
      ],
      "metadata": {
        "colab": {
          "base_uri": "https://localhost:8080/"
        },
        "id": "BsEhNAq-BeSl",
        "outputId": "c775e622-154c-4918-c765-fcf07b8e20a8"
      },
      "execution_count": 3,
      "outputs": [
        {
          "output_type": "stream",
          "name": "stdout",
          "text": [
            "Task 2 - Renamed column names:\n",
            "Index(['Random value 1', 'Random value 2', 'Random value 3', 'Random value 4'], dtype='object')\n"
          ]
        }
      ]
    },
    {
      "cell_type": "code",
      "source": [
        "# Task 3: Descriptive statistics\n",
        "statistics = df.describe()\n",
        "print(\"Task 3 - Descriptive statistics:\")\n",
        "print(statistics)"
      ],
      "metadata": {
        "colab": {
          "base_uri": "https://localhost:8080/"
        },
        "id": "ViE07MHgBiN9",
        "outputId": "e5c90ef7-3e2c-44fd-e136-0e97e9544637"
      },
      "execution_count": 4,
      "outputs": [
        {
          "output_type": "stream",
          "name": "stdout",
          "text": [
            "Task 3 - Descriptive statistics:\n",
            "       Random value 1  Random value 2  Random value 3  Random value 4\n",
            "count        4.000000        4.000000        4.000000        4.000000\n",
            "mean         0.008762       -0.435780        0.009641        0.315612\n",
            "std          0.439772        1.043924        1.426317        1.007175\n",
            "min         -0.469474       -1.913280       -1.724918       -0.562288\n",
            "25%         -0.292984       -0.653923       -0.778793       -0.489869\n",
            "50%          0.003904       -0.186201        0.092135        0.150852\n",
            "75%          0.305650        0.031942        0.880570        0.956334\n",
            "max          0.496714        0.542560        1.579213        1.523030\n"
          ]
        }
      ]
    },
    {
      "cell_type": "code",
      "source": [
        "# Task 4: Check for null values and data types\n",
        "null_values = df.isnull().sum()\n",
        "data_types = df.dtypes\n",
        "print(\"Task 4 - Null values:\")\n",
        "print(null_values)\n",
        "print(\"Task 4 - Data types:\")\n",
        "print(data_types)"
      ],
      "metadata": {
        "colab": {
          "base_uri": "https://localhost:8080/"
        },
        "id": "aa-bgXoWBjs1",
        "outputId": "a13a55e8-cf4c-409c-d8e8-eb3084f594ea"
      },
      "execution_count": 5,
      "outputs": [
        {
          "output_type": "stream",
          "name": "stdout",
          "text": [
            "Task 4 - Null values:\n",
            "Random value 1    0\n",
            "Random value 2    0\n",
            "Random value 3    0\n",
            "Random value 4    0\n",
            "dtype: int64\n",
            "Task 4 - Data types:\n",
            "Random value 1    float64\n",
            "Random value 2    float64\n",
            "Random value 3    float64\n",
            "Random value 4    float64\n",
            "dtype: object\n"
          ]
        }
      ]
    },
    {
      "cell_type": "code",
      "source": [
        "# Task 5: Display columns using location methods\n",
        "random_value_2_loc = df.iloc[:, 1]  # Using integer-based location\n",
        "random_value_3_loc = df.iloc[:, 2]\n",
        "random_value_2_idx = df['Random value 2']  # Using column name-based indexing\n",
        "random_value_3_idx = df['Random value 3']\n",
        "print(\"Task 5 - 'Random value 2' column using location methods:\")\n",
        "print(random_value_2_loc)\n",
        "print(\"Task 5 - 'Random value 3' column using location methods:\")\n",
        "print(random_value_3_loc)\n",
        "print(\"Task 5 - 'Random value 2' column using index location methods:\")\n",
        "print(random_value_2_idx)\n",
        "print(\"Task 5 - 'Random value 3' column using index location methods:\")\n",
        "print(random_value_3_idx)"
      ],
      "metadata": {
        "colab": {
          "base_uri": "https://localhost:8080/"
        },
        "id": "xHzZvxdmBk_n",
        "outputId": "1e363226-b00e-40d5-fb86-e5a6794a0790"
      },
      "execution_count": 6,
      "outputs": [
        {
          "output_type": "stream",
          "name": "stdout",
          "text": [
            "Task 5 - 'Random value 2' column using location methods:\n",
            "0   -0.138264\n",
            "1   -0.234137\n",
            "2    0.542560\n",
            "3   -1.913280\n",
            "Name: Random value 2, dtype: float64\n",
            "Task 5 - 'Random value 3' column using location methods:\n",
            "0    0.647689\n",
            "1    1.579213\n",
            "2   -0.463418\n",
            "3   -1.724918\n",
            "Name: Random value 3, dtype: float64\n",
            "Task 5 - 'Random value 2' column using index location methods:\n",
            "0   -0.138264\n",
            "1   -0.234137\n",
            "2    0.542560\n",
            "3   -1.913280\n",
            "Name: Random value 2, dtype: float64\n",
            "Task 5 - 'Random value 3' column using index location methods:\n",
            "0    0.647689\n",
            "1    1.579213\n",
            "2   -0.463418\n",
            "3   -1.724918\n",
            "Name: Random value 3, dtype: float64\n"
          ]
        }
      ]
    }
  ]
}